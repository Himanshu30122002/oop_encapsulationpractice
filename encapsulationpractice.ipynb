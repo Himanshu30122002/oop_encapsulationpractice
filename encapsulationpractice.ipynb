{
  "nbformat": 4,
  "nbformat_minor": 0,
  "metadata": {
    "colab": {
      "name": "encapsulationpractice",
      "provenance": [],
      "authorship_tag": "ABX9TyPLb22IkI9WQjlcRDGnhBE+",
      "include_colab_link": true
    },
    "kernelspec": {
      "name": "python3",
      "display_name": "Python 3"
    },
    "language_info": {
      "name": "python"
    }
  },
  "cells": [
    {
      "cell_type": "markdown",
      "metadata": {
        "id": "view-in-github",
        "colab_type": "text"
      },
      "source": [
        "<a href=\"https://colab.research.google.com/github/Himanshu30122002/oop_encapsulationpractice/blob/main/encapsulationpractice.ipynb\" target=\"_parent\"><img src=\"https://colab.research.google.com/assets/colab-badge.svg\" alt=\"Open In Colab\"/></a>"
      ]
    },
    {
      "cell_type": "code",
      "metadata": {
        "colab": {
          "base_uri": "https://localhost:8080/"
        },
        "id": "1HIQLHB4oC_6",
        "outputId": "21cb29bb-9b73-4e0e-fd03-9706689f44e8"
      },
      "source": [
        "class country:\n",
        "  def __init__(self,name):\n",
        "    self.name = name \n",
        "  def pr_name(self):\n",
        "      print('the country name is ', self.name)\n",
        "\n",
        "\n",
        "c1 = country('Indian')\n",
        "c2 = country('USA')\n",
        "c3 = country('France')\n",
        "\n",
        "c1.pr_name()\n",
        "c2.pr_name()\n",
        "c3.pr_name()\n",
        "\n",
        "\n"
      ],
      "execution_count": 4,
      "outputs": [
        {
          "output_type": "stream",
          "name": "stdout",
          "text": [
            "the country name is  Indian\n",
            "the country name is  USA\n",
            "the country name is  France\n"
          ]
        }
      ]
    },
    {
      "cell_type": "code",
      "metadata": {
        "colab": {
          "base_uri": "https://localhost:8080/",
          "height": 70
        },
        "id": "s4SgUnjgqODR",
        "outputId": "1026e0f9-5e0d-4550-cc7b-edafa52ddc2f"
      },
      "source": [
        "class Base:\n",
        "  def __init__(self):\n",
        "    self.a = \"oop course\"\n",
        "    self.b = \"IIIT DHARWAD\"\n",
        "    print(\"calling private member of a base class:\")\n",
        "\n",
        "obj = Base()\n",
        "print(obj.a)\n",
        "obj.b "
      ],
      "execution_count": 13,
      "outputs": [
        {
          "output_type": "stream",
          "name": "stdout",
          "text": [
            "calling private member of a base class:\n",
            "oop course\n"
          ]
        },
        {
          "output_type": "execute_result",
          "data": {
            "application/vnd.google.colaboratory.intrinsic+json": {
              "type": "string"
            },
            "text/plain": [
              "'IIIT DHARWAD'"
            ]
          },
          "metadata": {},
          "execution_count": 13
        }
      ]
    },
    {
      "cell_type": "code",
      "metadata": {
        "colab": {
          "base_uri": "https://localhost:8080/"
        },
        "id": "6Dx2sbDW70h0",
        "outputId": "a838f730-3239-423d-a270-10cdfe7e72f0"
      },
      "source": [
        "class student:\n",
        "  count=0\n",
        "  def __init__(self,num) :\n",
        "    student.count=student.count+num\n",
        "\n",
        "s1=student(42)\n",
        "s2=student(5)\n",
        "s3=student(16)\n",
        "\n",
        "print(\"number of students in OOP class :\", student.count)\n",
        "print(\"number of students in OOP class:\", s2.count)"
      ],
      "execution_count": 15,
      "outputs": [
        {
          "output_type": "stream",
          "name": "stdout",
          "text": [
            "number of students in OOP class : 63\n",
            "number of students in OOP class: 63\n"
          ]
        }
      ]
    },
    {
      "cell_type": "code",
      "metadata": {
        "id": "ug3vyAb08qdQ"
      },
      "source": [
        ""
      ],
      "execution_count": null,
      "outputs": []
    }
  ]
}